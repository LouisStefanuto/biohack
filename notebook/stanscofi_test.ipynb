{
 "cells": [
  {
   "cell_type": "code",
   "execution_count": 21,
   "metadata": {},
   "outputs": [],
   "source": [
    "import numpy as np\n",
    "import pandas as pd\n",
    "\n",
    "from stanscofi.utils import load_dataset\n",
    "from stanscofi.datasets import Dataset\n",
    "from stanscofi.training_testing import cv_training\n",
    "from stanscofi.training_testing import weakly_correlated_split, random_simple_split, metrics_list\n",
    "from stanscofi.validation import compute_metrics, plot_metrics\n",
    "from stanscofi.validation import AUC, Rscore, MRR, RP, PrecisionK, RecallK, F1K, AP, MAP, DCGk, NDCGk, MeanRank, HRk, ERR\n",
    "\n",
    "from benchscofi import ALSWR, DRRS, LRSSL, PMF, SCPMF, Constant, LogisticMF"
   ]
  },
  {
   "cell_type": "code",
   "execution_count": 2,
   "metadata": {},
   "outputs": [],
   "source": [
    "random_state = 1234\n",
    "decision_threshold = 0"
   ]
  },
  {
   "cell_type": "code",
   "execution_count": 3,
   "metadata": {},
   "outputs": [
    {
     "name": "stdout",
     "output_type": "stream",
     "text": [
      "----------------------------------------------------------------------\n",
      "* Rating matrix: 613 drugs x 151 diseases\n",
      "Including 204 drugs and 116 diseases involved in at least one positive/negative rating\n",
      "401 positive, 11 negative, 92151 unlabeled (including 0 unavailable) drug-disease ratings\n",
      "Sparsity: 0.45 percent (on drugs/diseases with at least one known rating 1.74)\n",
      "-----------------------------------\n",
      "* Feature matrices:\n",
      "# Drug features: 12096\tTotal #Drugs: 613\n",
      "Missing features: 0.00 percent\n",
      "# Disease features: 12096\tTotal #Disease: 151\n",
      "Missing features: 0.00 percent\n",
      "----------------------------------------------------------------------\n",
      "\n"
     ]
    }
   ],
   "source": [
    "# Dataset\n",
    "dataset_di = load_dataset(\"TRANSCRIPT\", \"../data/\")\n",
    "dataset = Dataset(**dataset_di)\n",
    "\n",
    "# dataset_di = load_dataset(\"PREDICT\", \"../data/\")\n",
    "# dataset = Dataset(**dataset_di)\n",
    "\n",
    "dataset.summary();"
   ]
  },
  {
   "cell_type": "code",
   "execution_count": 4,
   "metadata": {},
   "outputs": [],
   "source": [
    "test_size = 0.2\n",
    "metric = \"cosine\"\n",
    "\n",
    "# Random split\n",
    "(train_folds, test_folds), _ = random_simple_split(\n",
    "    dataset, test_size, metric=metric\n",
    ")\n",
    "\n",
    "# # Weakly correlated split\n",
    "# (train_folds, test_folds), _ = weakly_correlated_split(\n",
    "#     dataset,\n",
    "#     test_size,\n",
    "#     early_stop=1,\n",
    "#     metric=metric,\n",
    "#     verbose=True,\n",
    "# )\n"
   ]
  },
  {
   "cell_type": "code",
   "execution_count": 5,
   "metadata": {},
   "outputs": [],
   "source": [
    "train_dataset = dataset.subset(train_folds, subset_name=\"Train_\" + \"TRANSCRIPT\")\n",
    "test_dataset = dataset.subset(test_folds, subset_name=\"Test_\" + \"TRANSCRIPT\")"
   ]
  },
  {
   "cell_type": "code",
   "execution_count": 6,
   "metadata": {},
   "outputs": [
    {
     "name": "stdout",
     "output_type": "stream",
     "text": [
      "Train dataset\n",
      "----------------------------------------------------------------------\n",
      "* Rating matrix: 613 drugs x 151 diseases\n",
      "Including 180 drugs and 101 diseases involved in at least one positive/negative rating\n",
      "321 positive, 9 negative, 92233 unlabeled (including 18513 unavailable) drug-disease ratings\n",
      "Sparsity: 0.36 percent (on drugs/diseases with at least one known rating 1.82)\n",
      "-----------------------------------\n",
      "* Feature matrices:\n",
      "# Drug features: 12096\tTotal #Drugs: 613\n",
      "Missing features: 0.00 percent\n",
      "# Disease features: 12096\tTotal #Disease: 151\n",
      "Missing features: 0.00 percent\n",
      "----------------------------------------------------------------------\n",
      "\n",
      "Test dataset\n",
      "----------------------------------------------------------------------\n",
      "* Rating matrix: 613 drugs x 151 diseases\n",
      "Including 63 drugs and 58 diseases involved in at least one positive/negative rating\n",
      "80 positive, 2 negative, 92481 unlabeled (including 74050 unavailable) drug-disease ratings\n",
      "Sparsity: 0.09 percent (on drugs/diseases with at least one known rating 2.24)\n",
      "-----------------------------------\n",
      "* Feature matrices:\n",
      "# Drug features: 12096\tTotal #Drugs: 613\n",
      "Missing features: 0.00 percent\n",
      "# Disease features: 12096\tTotal #Disease: 151\n",
      "Missing features: 0.00 percent\n",
      "----------------------------------------------------------------------\n",
      "\n"
     ]
    }
   ],
   "source": [
    "print(\"Train dataset\")\n",
    "train_dataset.summary();\n",
    "print(\"Test dataset\")\n",
    "test_dataset.summary();"
   ]
  },
  {
   "cell_type": "code",
   "execution_count": 7,
   "metadata": {},
   "outputs": [],
   "source": [
    "algo_params = {\n",
    "    \"PMF\": {\n",
    "        \"reg\": 0.01,\n",
    "        \"learning_rate\": 0.5,\n",
    "        \"n_iters\": 160,\n",
    "        \"n_factors\": 15,\n",
    "        \"batch_size\": 100,\n",
    "    },\n",
    "}"
   ]
  },
  {
   "cell_type": "code",
   "execution_count": 9,
   "metadata": {},
   "outputs": [],
   "source": [
    "# Algorithm\n",
    "model = PMF(algo_params[\"PMF\"])"
   ]
  },
  {
   "cell_type": "code",
   "execution_count": 10,
   "metadata": {},
   "outputs": [
    {
     "name": "stderr",
     "output_type": "stream",
     "text": [
      "BPR: 100%|██████████| 160/160 [00:00<00:00, 1759.46it/s]\n"
     ]
    }
   ],
   "source": [
    "# Training\n",
    "model.fit(train_dataset, random_state)"
   ]
  },
  {
   "cell_type": "code",
   "execution_count": 12,
   "metadata": {},
   "outputs": [
    {
     "name": "stdout",
     "output_type": "stream",
     "text": [
      "* Scores\n",
      "613 unique items, 151 unique users\n",
      "Scores: Min: 1.000000\tMean: 1.000000\tMedian: 1.000000\tMax: 1.000000\tStd: 0.000000\n",
      "\n",
      "* Classification\n",
      "613 unique items, 151 unique users\n",
      "Positive class: 18513, Negative class: 0\n",
      "\n"
     ]
    }
   ],
   "source": [
    "# Predictions\n",
    "scores = model.predict_proba(test_dataset)\n",
    "predictions = model.predict(scores, threshold=decision_threshold)\n",
    "\n",
    "model.print_scores(scores)\n",
    "model.print_classification(predictions)"
   ]
  },
  {
   "cell_type": "code",
   "execution_count": 11,
   "metadata": {},
   "outputs": [
    {
     "name": "stderr",
     "output_type": "stream",
     "text": [
      "[Parallel(n_jobs=4)]: Using backend LokyBackend with 4 concurrent workers.\n"
     ]
    },
    {
     "name": "stdout",
     "output_type": "stream",
     "text": [
      "<validation.compute_metrics> Computed on #users=151, 67 ignored (44 perc)\n",
      "<validation.compute_metrics> Computed on #users=151, 67 ignored (44 perc)\n",
      "<validation.compute_metrics> Computed on #users=151, 62 ignored (41 perc)\n",
      "<validation.compute_metrics> Computed on #users=151, 62 ignored (41 perc)\n",
      "<validation.compute_metrics> Computed on #users=151, 109 ignored (72 perc)\n",
      "Crossvalidation step #2/5 (train AUC 0.500000, test AUC 0.500000)\n",
      "<validation.compute_metrics> Computed on #users=151, 115 ignored (76 perc)\n",
      "Crossvalidation step #4/5 (train AUC 0.500000, test AUC 0.500000)\n",
      "<validation.compute_metrics> Computed on #users=151, 113 ignored (75 perc)\n",
      "Crossvalidation step #3/5 (train AUC 0.500000, test AUC 0.500000)\n",
      "<validation.compute_metrics> Computed on #users=151, 106 ignored (70 perc)\n",
      "Crossvalidation step #1/5 (train AUC 0.500000, test AUC 0.500000)\n",
      "<validation.compute_metrics> Computed on #users=151, 62 ignored (41 perc)\n",
      "<validation.compute_metrics> Computed on #users=151, 109 ignored (72 perc)\n",
      "Crossvalidation step #5/5 (train AUC 0.500000, test AUC 0.500000)\n"
     ]
    }
   ],
   "source": [
    "# For validation\n",
    "k = 5\n",
    "beta = 1\n",
    "nsplits = 5\n",
    "njobs = nsplits - 1\n",
    "\n",
    "# Cross-validation\n",
    "results = cv_training(\n",
    "    Constant,\n",
    "    algo_params,\n",
    "    train_dataset,\n",
    "    threshold=decision_threshold,\n",
    "    metric=\"AUC\",\n",
    "    k=k,\n",
    "    beta=beta,\n",
    "    njobs=njobs,\n",
    "    nsplits=nsplits,\n",
    "    random_state=random_state,\n",
    "    show_plots=False,\n",
    "    verbose=True,\n",
    "    cv_type=\"random\",\n",
    "    # cv_type=\"weakly_correlated\"\n",
    ")\n",
    "model = results[\"models\"][np.argmax(results[\"test_metric\"])]"
   ]
  },
  {
   "cell_type": "code",
   "execution_count": 13,
   "metadata": {},
   "outputs": [
    {
     "name": "stdout",
     "output_type": "stream",
     "text": [
      "* Scores\n",
      "613 unique items, 151 unique users\n",
      "Scores: Min: 1.000000\tMean: 1.000000\tMedian: 1.000000\tMax: 1.000000\tStd: 0.000000\n",
      "\n",
      "* Classification\n",
      "613 unique items, 151 unique users\n",
      "Positive class: 18513, Negative class: 0\n",
      "\n"
     ]
    }
   ],
   "source": [
    "# Predictions\n",
    "scores = model.predict_proba(test_dataset)\n",
    "predictions = model.predict(scores, threshold=decision_threshold)\n",
    "\n",
    "model.print_scores(scores)\n",
    "model.print_classification(predictions)"
   ]
  },
  {
   "cell_type": "code",
   "execution_count": 18,
   "metadata": {},
   "outputs": [
    {
     "name": "stdout",
     "output_type": "stream",
     "text": [
      "<validation.compute_metrics> Computed on #users=151, 94 ignored (62 perc)\n"
     ]
    },
    {
     "data": {
      "image/png": "[encoded data removed]",
      "text/plain": [
       "<Figure size 800x800 with 4 Axes>"
      ]
     },
     "metadata": {},
     "output_type": "display_data"
    }
   ],
   "source": [
    "\n",
    "# Validation\n",
    "# disease-wise metrics\n",
    "metrics, plot_args = compute_metrics(\n",
    "    scores, predictions, test_dataset, metrics=metrics_list, k=k, beta=beta, verbose=1\n",
    ")\n",
    "# run all metrics\n",
    "plot_args.update({\"model_name\": \"PMF\", \"figsize\": (8, 8)})\n",
    "plot_metrics(**plot_args)\n"
   ]
  },
  {
   "cell_type": "code",
   "execution_count": 20,
   "metadata": {},
   "outputs": [
    {
     "data": {
      "text/html": [
       "<div>\n",
       "<style scoped>\n",
       "    .dataframe tbody tr th:only-of-type {\n",
       "        vertical-align: middle;\n",
       "    }\n",
       "\n",
       "    .dataframe tbody tr th {\n",
       "        vertical-align: top;\n",
       "    }\n",
       "\n",
       "    .dataframe thead th {\n",
       "        text-align: right;\n",
       "    }\n",
       "</style>\n",
       "<table border=\"1\" class=\"dataframe\">\n",
       "  <thead>\n",
       "    <tr style=\"text-align: right;\">\n",
       "      <th></th>\n",
       "      <th>Value</th>\n",
       "      <th>Average</th>\n",
       "      <th>StandardDeviation</th>\n",
       "    </tr>\n",
       "  </thead>\n",
       "  <tbody>\n",
       "    <tr>\n",
       "      <th>AUC</th>\n",
       "      <td>0.900344</td>\n",
       "      <td>0.500000</td>\n",
       "      <td>0.000000</td>\n",
       "    </tr>\n",
       "    <tr>\n",
       "      <th>Rscore</th>\n",
       "      <td>0.058822</td>\n",
       "      <td>0.000000</td>\n",
       "      <td>0.000000</td>\n",
       "    </tr>\n",
       "    <tr>\n",
       "      <th>MRR</th>\n",
       "      <td>0.002915</td>\n",
       "      <td>0.044145</td>\n",
       "      <td>0.075165</td>\n",
       "    </tr>\n",
       "    <tr>\n",
       "      <th>RP</th>\n",
       "      <td>0.004390</td>\n",
       "      <td>0.035818</td>\n",
       "      <td>0.057783</td>\n",
       "    </tr>\n",
       "    <tr>\n",
       "      <th>PrecisionK</th>\n",
       "      <td>0.000000</td>\n",
       "      <td>0.017544</td>\n",
       "      <td>0.056577</td>\n",
       "    </tr>\n",
       "  </tbody>\n",
       "</table>\n",
       "</div>"
      ],
      "text/plain": [
       "               Value   Average  StandardDeviation\n",
       "AUC         0.900344  0.500000           0.000000\n",
       "Rscore      0.058822  0.000000           0.000000\n",
       "MRR         0.002915  0.044145           0.075165\n",
       "RP          0.004390  0.035818           0.057783\n",
       "PrecisionK  0.000000  0.017544           0.056577"
      ]
     },
     "execution_count": 20,
     "metadata": {},
     "output_type": "execute_result"
    }
   ],
   "source": [
    "# dataset-wide metrics\n",
    "y_test = (test_dataset.folds.toarray() * test_dataset.ratings.toarray()).ravel()\n",
    "y_test[y_test < 1] = 0\n",
    "\n",
    "whole_metrics = [\n",
    "    AUC(y_test, scores.toarray().ravel(), k, beta),\n",
    "    Rscore(y_test, scores.toarray().ravel(), k, beta),\n",
    "    MRR(y_test, scores.toarray().ravel(), k, beta),\n",
    "    RP(y_test, scores.toarray().ravel(), k, beta),\n",
    "    PrecisionK(y_test, scores.toarray().ravel(), k, beta),\n",
    "    RecallK(y_test, scores.toarray().ravel(), k, beta),\n",
    "    F1K(y_test, scores.toarray().ravel(), k, beta),\n",
    "    AP(y_test, scores.toarray().ravel(), k, beta),\n",
    "    MAP(y_test, scores.toarray().ravel(), k, beta),\n",
    "    DCGk(y_test, scores.toarray().ravel(), k, beta),\n",
    "    NDCGk(y_test, scores.toarray().ravel(), k, beta),\n",
    "    MeanRank(y_test, scores.toarray().ravel(), k, beta),\n",
    "    HRk(y_test, scores.toarray().ravel(), k, beta),\n",
    "    ERR(y_test, scores.toarray().ravel(), k, beta),\n",
    "]\n",
    "\n",
    "results = pd.concat(\n",
    "    (\n",
    "        pd.DataFrame(\n",
    "            [whole_metrics],\n",
    "            index=[\"Value\"],\n",
    "            columns=[\n",
    "                \"AUC\",\n",
    "                \"Rscore\",\n",
    "                \"MRR\",\n",
    "                \"RP\",\n",
    "                \"PrecisionK\",\n",
    "                \"RecallK\",\n",
    "                \"F1K\",\n",
    "                \"AP\",\n",
    "                \"MAP\",\n",
    "                \"DCGk\",\n",
    "                \"NDCGk\",\n",
    "                \"MeanRank\",\n",
    "                \"HRk\",\n",
    "                \"ERR\",\n",
    "            ],\n",
    "        ).T,\n",
    "        metrics,\n",
    "    ),\n",
    "    axis=1,\n",
    ")\n",
    "\n",
    "results.head()"
   ]
  }
 ],
 "metadata": {
  "kernelspec": {
   "display_name": ".venv",
   "language": "python",
   "name": "python3"
  },
  "language_info": {
   "codemirror_mode": {
    "name": "ipython",
    "version": 3
   },
   "file_extension": ".py",
   "mimetype": "text/x-python",
   "name": "python",
   "nbconvert_exporter": "python",
   "pygments_lexer": "ipython3",
   "version": "3.12.7"
  }
 },
 "nbformat": 4,
 "nbformat_minor": 2
}
